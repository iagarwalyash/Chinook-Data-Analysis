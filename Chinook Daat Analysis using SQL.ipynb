{
 "cells": [
  {
   "cell_type": "markdown",
   "metadata": {},
   "source": [
    "## SQL FOR DATA ANALYSIS ON CHINOOK DATABASE:\n"
   ]
  },
  {
   "cell_type": "code",
   "execution_count": 418,
   "metadata": {},
   "outputs": [],
   "source": [
    "import numpy as np\n",
    "import pandas as pd\n",
    "import psycopg2\n",
    "import matplotlib.pyplot as plt\n",
    "import seaborn as sns\n"
   ]
  },
  {
   "cell_type": "code",
   "execution_count": 419,
   "metadata": {},
   "outputs": [],
   "source": [
    "connection = psycopg2.connect(user = 'postgres',password = 'suryansh2794',host = 'localhost',port = '5432',\n",
    "                             database = 'chinook_1')\n",
    "ready = connection.cursor()\n"
   ]
  },
  {
   "cell_type": "code",
   "execution_count": 420,
   "metadata": {},
   "outputs": [
    {
     "name": "stdout",
     "output_type": "stream",
     "text": [
      "{'user': 'postgres', 'dbname': 'chinook_1', 'host': 'localhost', 'port': '5432', 'tty': '', 'options': '', 'sslmode': 'prefer', 'sslcompression': '0', 'krbsrvname': 'postgres', 'target_session_attrs': 'any'} \n",
      "\n"
     ]
    }
   ],
   "source": [
    "print(connection.get_dsn_parameters(),'\\n')"
   ]
  },
  {
   "cell_type": "code",
   "execution_count": 421,
   "metadata": {},
   "outputs": [],
   "source": [
    "### top 10 artist query"
   ]
  },
  {
   "cell_type": "code",
   "execution_count": 422,
   "metadata": {},
   "outputs": [],
   "source": [
    "query1 = \" SELECT artist.name AS Popular_Artist ,count(genre.name) AS Songs FROM artist JOIN album ON album.artist_id = artist.artist_id JOIN track ON album.album_id = track.album_id JOIN genre ON track.genre_id = genre.genre_id GROUP BY artist.name ORDER BY 2 DESC LIMIT 20 \" \n",
    "ready.execute(query1)"
   ]
  },
  {
   "cell_type": "code",
   "execution_count": 423,
   "metadata": {},
   "outputs": [],
   "source": [
    "q1 = ready.fetchall()"
   ]
  },
  {
   "cell_type": "code",
   "execution_count": 424,
   "metadata": {},
   "outputs": [],
   "source": [
    "q1 = pd.DataFrame(q1)\n",
    "q1.columns = ['Popular Artist','Songs Played'] "
   ]
  },
  {
   "cell_type": "code",
   "execution_count": 425,
   "metadata": {},
   "outputs": [
    {
     "data": {
      "text/html": [
       "<div>\n",
       "<style scoped>\n",
       "    .dataframe tbody tr th:only-of-type {\n",
       "        vertical-align: middle;\n",
       "    }\n",
       "\n",
       "    .dataframe tbody tr th {\n",
       "        vertical-align: top;\n",
       "    }\n",
       "\n",
       "    .dataframe thead th {\n",
       "        text-align: right;\n",
       "    }\n",
       "</style>\n",
       "<table border=\"1\" class=\"dataframe\">\n",
       "  <thead>\n",
       "    <tr style=\"text-align: right;\">\n",
       "      <th></th>\n",
       "      <th>Popular Artist</th>\n",
       "      <th>Songs Played</th>\n",
       "    </tr>\n",
       "  </thead>\n",
       "  <tbody>\n",
       "    <tr>\n",
       "      <th>0</th>\n",
       "      <td>Iron Maiden</td>\n",
       "      <td>213</td>\n",
       "    </tr>\n",
       "    <tr>\n",
       "      <th>1</th>\n",
       "      <td>U2</td>\n",
       "      <td>135</td>\n",
       "    </tr>\n",
       "    <tr>\n",
       "      <th>2</th>\n",
       "      <td>Led Zeppelin</td>\n",
       "      <td>114</td>\n",
       "    </tr>\n",
       "    <tr>\n",
       "      <th>3</th>\n",
       "      <td>Metallica</td>\n",
       "      <td>112</td>\n",
       "    </tr>\n",
       "    <tr>\n",
       "      <th>4</th>\n",
       "      <td>Deep Purple</td>\n",
       "      <td>92</td>\n",
       "    </tr>\n",
       "    <tr>\n",
       "      <th>5</th>\n",
       "      <td>Lost</td>\n",
       "      <td>92</td>\n",
       "    </tr>\n",
       "    <tr>\n",
       "      <th>6</th>\n",
       "      <td>Pearl Jam</td>\n",
       "      <td>67</td>\n",
       "    </tr>\n",
       "    <tr>\n",
       "      <th>7</th>\n",
       "      <td>Lenny Kravitz</td>\n",
       "      <td>57</td>\n",
       "    </tr>\n",
       "    <tr>\n",
       "      <th>8</th>\n",
       "      <td>Various Artists</td>\n",
       "      <td>56</td>\n",
       "    </tr>\n",
       "    <tr>\n",
       "      <th>9</th>\n",
       "      <td>The Office</td>\n",
       "      <td>53</td>\n",
       "    </tr>\n",
       "    <tr>\n",
       "      <th>10</th>\n",
       "      <td>Van Halen</td>\n",
       "      <td>52</td>\n",
       "    </tr>\n",
       "    <tr>\n",
       "      <th>11</th>\n",
       "      <td>Faith No More</td>\n",
       "      <td>52</td>\n",
       "    </tr>\n",
       "    <tr>\n",
       "      <th>12</th>\n",
       "      <td>Os Paralamas Do Sucesso</td>\n",
       "      <td>49</td>\n",
       "    </tr>\n",
       "    <tr>\n",
       "      <th>13</th>\n",
       "      <td>Eric Clapton</td>\n",
       "      <td>48</td>\n",
       "    </tr>\n",
       "    <tr>\n",
       "      <th>14</th>\n",
       "      <td>Red Hot Chili Peppers</td>\n",
       "      <td>48</td>\n",
       "    </tr>\n",
       "    <tr>\n",
       "      <th>15</th>\n",
       "      <td>Queen</td>\n",
       "      <td>45</td>\n",
       "    </tr>\n",
       "    <tr>\n",
       "      <th>16</th>\n",
       "      <td>Foo Fighters</td>\n",
       "      <td>44</td>\n",
       "    </tr>\n",
       "    <tr>\n",
       "      <th>17</th>\n",
       "      <td>Guns N' Roses</td>\n",
       "      <td>42</td>\n",
       "    </tr>\n",
       "    <tr>\n",
       "      <th>18</th>\n",
       "      <td>The Rolling Stones</td>\n",
       "      <td>41</td>\n",
       "    </tr>\n",
       "    <tr>\n",
       "      <th>19</th>\n",
       "      <td>R.E.M.</td>\n",
       "      <td>41</td>\n",
       "    </tr>\n",
       "  </tbody>\n",
       "</table>\n",
       "</div>"
      ],
      "text/plain": [
       "             Popular Artist  Songs Played\n",
       "0               Iron Maiden           213\n",
       "1                        U2           135\n",
       "2              Led Zeppelin           114\n",
       "3                 Metallica           112\n",
       "4               Deep Purple            92\n",
       "5                      Lost            92\n",
       "6                 Pearl Jam            67\n",
       "7             Lenny Kravitz            57\n",
       "8           Various Artists            56\n",
       "9                The Office            53\n",
       "10                Van Halen            52\n",
       "11            Faith No More            52\n",
       "12  Os Paralamas Do Sucesso            49\n",
       "13             Eric Clapton            48\n",
       "14    Red Hot Chili Peppers            48\n",
       "15                    Queen            45\n",
       "16             Foo Fighters            44\n",
       "17            Guns N' Roses            42\n",
       "18       The Rolling Stones            41\n",
       "19                   R.E.M.            41"
      ]
     },
     "execution_count": 425,
     "metadata": {},
     "output_type": "execute_result"
    }
   ],
   "source": [
    "q1"
   ]
  },
  {
   "cell_type": "code",
   "execution_count": 426,
   "metadata": {},
   "outputs": [
    {
     "data": {
      "image/png": "[encoded data removed]",
      "text/plain": [
       "<Figure size 1080x504 with 1 Axes>"
      ]
     },
     "metadata": {
      "needs_background": "light"
     },
     "output_type": "display_data"
    }
   ],
   "source": [
    "plt.figure(figsize = (15,7))\n",
    "sns.barplot(x = 'Popular Artist',y = 'Songs Played', data = q1)\n",
    "plt.xticks(rotation = 90)\n",
    "plt.show()"
   ]
  },
  {
   "cell_type": "code",
   "execution_count": 427,
   "metadata": {},
   "outputs": [],
   "source": [
    "## POPULAR GENRE"
   ]
  },
  {
   "cell_type": "code",
   "execution_count": 428,
   "metadata": {},
   "outputs": [],
   "source": [
    "query2 = \"SELECT genre.name , Count(genre.Name) AS Popular_Genre FROM Customer join invoice ON customer.customer_id = invoice.customer_id JOIN invoice_line On invoice.invoice_id = invoice_line.invoice_id Join track ON invoice_line.track_id=track.track_id Join genre On track.genre_id= genre.genre_id Group BY genre.name ORDER BY Popular_Genre DESC LIMIT 20\"\n",
    "ready.execute(query2)\n",
    "q2 = ready.fetchall()\n",
    "q2 = pd.DataFrame(q2)\n",
    "q2.columns = ['Genre','Popular_Genre']\n"
   ]
  },
  {
   "cell_type": "code",
   "execution_count": 429,
   "metadata": {},
   "outputs": [
    {
     "data": {
      "image/png": "[encoded data removed]",
      "text/plain": [
       "<Figure size 1080x504 with 1 Axes>"
      ]
     },
     "metadata": {
      "needs_background": "light"
     },
     "output_type": "display_data"
    }
   ],
   "source": [
    "plt.figure(figsize = (15,7))\n",
    "sns.barplot(x = 'Popular_Genre',y = 'Genre', data = q2)\n",
    "#plt.xticks(rotation = 90)\n",
    "plt.show()"
   ]
  },
  {
   "cell_type": "code",
   "execution_count": 430,
   "metadata": {},
   "outputs": [],
   "source": [
    "## EXPENSIVE SONGS:"
   ]
  },
  {
   "cell_type": "code",
   "execution_count": 431,
   "metadata": {},
   "outputs": [],
   "source": [
    "query3 = \"SELECT artist.name AS Artist_Name , sum(invoice_line.unit_price*invoice_line.quantity)AS Song_Cost FROM invoice JOIN invoice_line ON invoice.invoice_id = invoice_line.invoice_id Join customer On invoice.customer_id = customer.customer_id JOIN track ON track.track_id = invoice_line.track_id JOIN album ON album.album_id= track.album_id JOIN artist ON artist.artist_id= album.artist_id GROUP BY artist.name order by Song_Cost desc LIMIT 20\"\n",
    "ready.execute(query3)\n",
    "q3 = ready.fetchall()\n",
    "q3 = pd.DataFrame(q3)\n",
    "q3.columns = ['Artist_Name','Song_Cost']"
   ]
  },
  {
   "cell_type": "code",
   "execution_count": 432,
   "metadata": {},
   "outputs": [
    {
     "data": {
      "image/png": "[encoded data removed]",
      "text/plain": [
       "<Figure size 1080x504 with 1 Axes>"
      ]
     },
     "metadata": {
      "needs_background": "light"
     },
     "output_type": "display_data"
    }
   ],
   "source": [
    "plt.figure(figsize = (15,7))\n",
    "sns.barplot(x = 'Artist_Name',y = 'Song_Cost', data = q3)\n",
    "plt.xticks(rotation = 90)\n",
    "plt.show()"
   ]
  },
  {
   "cell_type": "code",
   "execution_count": 433,
   "metadata": {},
   "outputs": [
    {
     "name": "stdout",
     "output_type": "stream",
     "text": [
      "<class 'pandas.core.frame.DataFrame'>\n",
      "RangeIndex: 20 entries, 0 to 19\n",
      "Data columns (total 2 columns):\n",
      "Artist_Name    20 non-null object\n",
      "Song_Cost      20 non-null object\n",
      "dtypes: object(2)\n",
      "memory usage: 400.0+ bytes\n"
     ]
    }
   ],
   "source": [
    "q3.info()"
   ]
  },
  {
   "cell_type": "code",
   "execution_count": 434,
   "metadata": {},
   "outputs": [],
   "source": [
    "## WHO MADE IRON MAIDEN THE RICHEST. "
   ]
  },
  {
   "cell_type": "code",
   "execution_count": 435,
   "metadata": {},
   "outputs": [],
   "source": [
    "query4 = \"SELECT  sum(invoice_line.unit_price*invoice_line.quantity)AS SongCost, customer.first_name,customer.last_name FROM invoice JOIN invoice_line ON invoice.invoice_id = invoice_line.invoice_id Join customer On invoice.customer_id = customer.customer_id JOIN track ON track.track_id = invoice_line.track_id JOIN album ON album.album_id= track.album_id JOIN artist ON artist.artist_id= album.artist_id WHERE artist.name = 'Iron Maiden' GROUP BY customer.customer_id ORDER by SongCost DESC LIMIT 20\"\n",
    "ready.execute(query4)\n",
    "q4 = ready.fetchall()\n",
    "q4 = pd.DataFrame(q4)\n",
    "q4.columns = ['SongCost','First_Name','Last_Name']"
   ]
  },
  {
   "cell_type": "code",
   "execution_count": 436,
   "metadata": {},
   "outputs": [
    {
     "name": "stdout",
     "output_type": "stream",
     "text": [
      "<class 'pandas.core.frame.DataFrame'>\n",
      "RangeIndex: 20 entries, 0 to 19\n",
      "Data columns (total 3 columns):\n",
      "SongCost      20 non-null object\n",
      "First_Name    20 non-null object\n",
      "Last_Name     20 non-null object\n",
      "dtypes: object(3)\n",
      "memory usage: 560.0+ bytes\n"
     ]
    }
   ],
   "source": [
    "q4.info()"
   ]
  },
  {
   "cell_type": "code",
   "execution_count": 437,
   "metadata": {},
   "outputs": [
    {
     "data": {
      "image/png": "[encoded data removed]",
      "text/plain": [
       "<Figure size 1080x504 with 1 Axes>"
      ]
     },
     "metadata": {
      "needs_background": "light"
     },
     "output_type": "display_data"
    }
   ],
   "source": [
    "plt.figure(figsize = (15,7))\n",
    "sns.barplot(x = 'First_Name',y = 'SongCost', data = q4)\n",
    "plt.xticks(rotation = 90)\n",
    "plt.show()"
   ]
  },
  {
   "cell_type": "code",
   "execution_count": 438,
   "metadata": {},
   "outputs": [],
   "source": [
    "## choice to buy albums among customers."
   ]
  },
  {
   "cell_type": "code",
   "execution_count": 439,
   "metadata": {},
   "outputs": [],
   "source": [
    "#query5 = \" SELECT cd.country_other country,COUNT(cd.customer_id) num_customers,SUM(i.total) total_sales, ROUND(CAST(SUM(i.total) as float) / COUNT(DISTINCT(cd.customer_id)),2) avg_sales_per_cust,ROUND(AVG(i.total),2) avg_order_value FROM country_data cd INNER JOIN invoice i ON i.customer_id = cd.customer_id GROUP BY 1 ORDER BY CASE WHEN country = \"Other\" THEN 0 ELSE total_sales END DESC \""
   ]
  },
  {
   "cell_type": "code",
   "execution_count": null,
   "metadata": {},
   "outputs": [],
   "source": []
  },
  {
   "cell_type": "code",
   "execution_count": 440,
   "metadata": {},
   "outputs": [],
   "source": [
    "## most popular music genres in america."
   ]
  },
  {
   "cell_type": "code",
   "execution_count": 441,
   "metadata": {},
   "outputs": [],
   "source": [
    "query6 = \"WITH usa_sales AS (SELECT SUM(quantity) total FROM invoice_line il INNER JOIN invoice i ON i.invoice_id = il.invoice_id WHERE i.billing_country = 'USA') SELECT g.name genre,SUM(il.quantity) num_sold,(CAST(SUM(il.quantity) as float) / (SELECT total FROM usa_sales)) * 100 percent_sold FROM invoice_line il INNER JOIN invoice i ON i.invoice_id = il.invoice_id INNER JOIN track t ON il.track_id = t.track_id INNER JOIN genre g ON t.genre_id = g.genre_id WHERE i.billing_country = 'USA' GROUP BY 1 ORDER BY 2 DESC \"\n",
    "ready.execute(query6)\n",
    "q6 = ready.fetchall()\n",
    "q6 = pd.DataFrame(q6)\n",
    "q6.columns = ['genre','num_sold','percent_sold']"
   ]
  },
  {
   "cell_type": "code",
   "execution_count": 442,
   "metadata": {},
   "outputs": [
    {
     "data": {
      "text/html": [
       "<div>\n",
       "<style scoped>\n",
       "    .dataframe tbody tr th:only-of-type {\n",
       "        vertical-align: middle;\n",
       "    }\n",
       "\n",
       "    .dataframe tbody tr th {\n",
       "        vertical-align: top;\n",
       "    }\n",
       "\n",
       "    .dataframe thead th {\n",
       "        text-align: right;\n",
       "    }\n",
       "</style>\n",
       "<table border=\"1\" class=\"dataframe\">\n",
       "  <thead>\n",
       "    <tr style=\"text-align: right;\">\n",
       "      <th></th>\n",
       "      <th>genre</th>\n",
       "      <th>num_sold</th>\n",
       "      <th>percent_sold</th>\n",
       "    </tr>\n",
       "  </thead>\n",
       "  <tbody>\n",
       "    <tr>\n",
       "      <th>0</th>\n",
       "      <td>Rock</td>\n",
       "      <td>157</td>\n",
       "      <td>31.781377</td>\n",
       "    </tr>\n",
       "    <tr>\n",
       "      <th>1</th>\n",
       "      <td>Latin</td>\n",
       "      <td>91</td>\n",
       "      <td>18.421053</td>\n",
       "    </tr>\n",
       "    <tr>\n",
       "      <th>2</th>\n",
       "      <td>Metal</td>\n",
       "      <td>64</td>\n",
       "      <td>12.955466</td>\n",
       "    </tr>\n",
       "    <tr>\n",
       "      <th>3</th>\n",
       "      <td>Alternative &amp; Punk</td>\n",
       "      <td>50</td>\n",
       "      <td>10.121457</td>\n",
       "    </tr>\n",
       "    <tr>\n",
       "      <th>4</th>\n",
       "      <td>Jazz</td>\n",
       "      <td>22</td>\n",
       "      <td>4.453441</td>\n",
       "    </tr>\n",
       "    <tr>\n",
       "      <th>5</th>\n",
       "      <td>Blues</td>\n",
       "      <td>15</td>\n",
       "      <td>3.036437</td>\n",
       "    </tr>\n",
       "    <tr>\n",
       "      <th>6</th>\n",
       "      <td>TV Shows</td>\n",
       "      <td>14</td>\n",
       "      <td>2.834008</td>\n",
       "    </tr>\n",
       "    <tr>\n",
       "      <th>7</th>\n",
       "      <td>R&amp;B/Soul</td>\n",
       "      <td>12</td>\n",
       "      <td>2.429150</td>\n",
       "    </tr>\n",
       "    <tr>\n",
       "      <th>8</th>\n",
       "      <td>Classical</td>\n",
       "      <td>8</td>\n",
       "      <td>1.619433</td>\n",
       "    </tr>\n",
       "    <tr>\n",
       "      <th>9</th>\n",
       "      <td>Comedy</td>\n",
       "      <td>8</td>\n",
       "      <td>1.619433</td>\n",
       "    </tr>\n",
       "    <tr>\n",
       "      <th>10</th>\n",
       "      <td>Bossa Nova</td>\n",
       "      <td>7</td>\n",
       "      <td>1.417004</td>\n",
       "    </tr>\n",
       "    <tr>\n",
       "      <th>11</th>\n",
       "      <td>Drama</td>\n",
       "      <td>6</td>\n",
       "      <td>1.214575</td>\n",
       "    </tr>\n",
       "    <tr>\n",
       "      <th>12</th>\n",
       "      <td>Reggae</td>\n",
       "      <td>6</td>\n",
       "      <td>1.214575</td>\n",
       "    </tr>\n",
       "    <tr>\n",
       "      <th>13</th>\n",
       "      <td>Pop</td>\n",
       "      <td>5</td>\n",
       "      <td>1.012146</td>\n",
       "    </tr>\n",
       "    <tr>\n",
       "      <th>14</th>\n",
       "      <td>Alternative</td>\n",
       "      <td>5</td>\n",
       "      <td>1.012146</td>\n",
       "    </tr>\n",
       "    <tr>\n",
       "      <th>15</th>\n",
       "      <td>Sci Fi &amp; Fantasy</td>\n",
       "      <td>5</td>\n",
       "      <td>1.012146</td>\n",
       "    </tr>\n",
       "    <tr>\n",
       "      <th>16</th>\n",
       "      <td>Heavy Metal</td>\n",
       "      <td>4</td>\n",
       "      <td>0.809717</td>\n",
       "    </tr>\n",
       "    <tr>\n",
       "      <th>17</th>\n",
       "      <td>Soundtrack</td>\n",
       "      <td>4</td>\n",
       "      <td>0.809717</td>\n",
       "    </tr>\n",
       "    <tr>\n",
       "      <th>18</th>\n",
       "      <td>Hip Hop/Rap</td>\n",
       "      <td>4</td>\n",
       "      <td>0.809717</td>\n",
       "    </tr>\n",
       "    <tr>\n",
       "      <th>19</th>\n",
       "      <td>Rock And Roll</td>\n",
       "      <td>3</td>\n",
       "      <td>0.607287</td>\n",
       "    </tr>\n",
       "    <tr>\n",
       "      <th>20</th>\n",
       "      <td>Easy Listening</td>\n",
       "      <td>3</td>\n",
       "      <td>0.607287</td>\n",
       "    </tr>\n",
       "    <tr>\n",
       "      <th>21</th>\n",
       "      <td>Science Fiction</td>\n",
       "      <td>1</td>\n",
       "      <td>0.202429</td>\n",
       "    </tr>\n",
       "  </tbody>\n",
       "</table>\n",
       "</div>"
      ],
      "text/plain": [
       "                 genre  num_sold  percent_sold\n",
       "0                 Rock       157     31.781377\n",
       "1                Latin        91     18.421053\n",
       "2                Metal        64     12.955466\n",
       "3   Alternative & Punk        50     10.121457\n",
       "4                 Jazz        22      4.453441\n",
       "5                Blues        15      3.036437\n",
       "6             TV Shows        14      2.834008\n",
       "7             R&B/Soul        12      2.429150\n",
       "8            Classical         8      1.619433\n",
       "9               Comedy         8      1.619433\n",
       "10          Bossa Nova         7      1.417004\n",
       "11               Drama         6      1.214575\n",
       "12              Reggae         6      1.214575\n",
       "13                 Pop         5      1.012146\n",
       "14         Alternative         5      1.012146\n",
       "15    Sci Fi & Fantasy         5      1.012146\n",
       "16         Heavy Metal         4      0.809717\n",
       "17          Soundtrack         4      0.809717\n",
       "18         Hip Hop/Rap         4      0.809717\n",
       "19       Rock And Roll         3      0.607287\n",
       "20      Easy Listening         3      0.607287\n",
       "21     Science Fiction         1      0.202429"
      ]
     },
     "execution_count": 442,
     "metadata": {},
     "output_type": "execute_result"
    }
   ],
   "source": [
    "q6"
   ]
  },
  {
   "cell_type": "code",
   "execution_count": 443,
   "metadata": {},
   "outputs": [
    {
     "data": {
      "image/png": "[encoded data removed]",
      "text/plain": [
       "<Figure size 1080x504 with 1 Axes>"
      ]
     },
     "metadata": {
      "needs_background": "light"
     },
     "output_type": "display_data"
    }
   ],
   "source": [
    "plt.figure(figsize = (15,7))\n",
    "sns.barplot(x = 'genre',y = 'num_sold', data = q6)\n",
    "plt.xticks(rotation = 90)\n",
    "plt.show()"
   ]
  },
  {
   "cell_type": "code",
   "execution_count": 444,
   "metadata": {},
   "outputs": [
    {
     "data": {
      "text/plain": [
       "<matplotlib.axes._subplots.AxesSubplot at 0x12b70bf85c0>"
      ]
     },
     "execution_count": 444,
     "metadata": {},
     "output_type": "execute_result"
    },
    {
     "data": {
      "image/png": "[encoded data removed]",
      "text/plain": [
       "<Figure size 432x288 with 1 Axes>"
      ]
     },
     "metadata": {
      "needs_background": "light"
     },
     "output_type": "display_data"
    }
   ],
   "source": [
    "q6.set_index('genre', drop=True, inplace=True)\n",
    "colors = [(31/255, 119/255, 180/255), (255/255, 127/255, 14/255), (44/255, 160/255, 44/255), (214/255, 39/255, 40/255), (148/255, 103/255, 189/255), (140/255, 86/255, 75/255), (227/255, 119/255, 194/255), (127/255, 127/255, 127/255), (188/255, 189/255, 34/255), (23/255, 190/255, 207/255),(148/255, 103/255, 189/255), (140/255, 86/255, 75/255)]\n",
    "q6.num_sold.iloc[:10].plot.barh(title = \"Top Ten Music Genres in America\", color=colors)"
   ]
  },
  {
   "cell_type": "code",
   "execution_count": 445,
   "metadata": {},
   "outputs": [
    {
     "name": "stderr",
     "output_type": "stream",
     "text": [
      "G:\\anaconda\\lib\\site-packages\\ipykernel_launcher.py:4: SettingWithCopyWarning: \n",
      "A value is trying to be set on a copy of a slice from a DataFrame\n",
      "\n",
      "See the caveats in the documentation: http://pandas.pydata.org/pandas-docs/stable/indexing.html#indexing-view-versus-copy\n",
      "  after removing the cwd from sys.path.\n"
     ]
    },
    {
     "data": {
      "text/plain": [
       "<matplotlib.axes._subplots.AxesSubplot at 0x12b6f894470>"
      ]
     },
     "execution_count": 445,
     "metadata": {},
     "output_type": "execute_result"
    },
    {
     "data": {
      "image/png": "[encoded data removed]",
      "text/plain": [
       "<Figure size 576x576 with 1 Axes>"
      ]
     },
     "metadata": {},
     "output_type": "display_data"
    }
   ],
   "source": [
    "# Create an \"other\" category for better visualization.\n",
    "# Select all genres that have more than 1% of the total.\n",
    "q6 = q6.iloc[:11]\n",
    "q6.loc[\"Other\"] = 21\n",
    "q6.num_sold.plot.pie(figsize=(8,8), colors=colors,\n",
    "                                     title = \"Top Ten Music Genres in America\",\n",
    "                                     autopct='%1.1f%%', pctdistance = 0.85)"
   ]
  },
  {
   "cell_type": "code",
   "execution_count": 447,
   "metadata": {},
   "outputs": [],
   "source": [
    "## Employee sales performance:"
   ]
  },
  {
   "cell_type": "code",
   "execution_count": 448,
   "metadata": {},
   "outputs": [],
   "source": [
    "query7 = \" SELECT e.first_name||' '||e.last_name employee,e.hire_date, e2.first_name||' '||e2.last_name manager, SUM(i.total) total_sales FROM employee e INNER JOIN employee e2 ON e.reports_to = e2.employee_id INNER JOIN customer c ON c.support_rep_id = e.employee_id INNER JOIN invoice i ON c.customer_id = i.customer_id WHERE e.title = 'Sales Support Agent' GROUP BY e.hire_date,e.first_name||' '||e.last_name,e2.first_name||' '||e2.last_name ORDER BY 4 \"\n",
    "ready.execute(query7)\n",
    "q7 = ready.fetchall()\n",
    "q7 = pd.DataFrame(q7)\n",
    "q7.columns = ['Employee','hire_date','Manager','Total_sales']"
   ]
  },
  {
   "cell_type": "code",
   "execution_count": 449,
   "metadata": {},
   "outputs": [
    {
     "data": {
      "text/html": [
       "<div>\n",
       "<style scoped>\n",
       "    .dataframe tbody tr th:only-of-type {\n",
       "        vertical-align: middle;\n",
       "    }\n",
       "\n",
       "    .dataframe tbody tr th {\n",
       "        vertical-align: top;\n",
       "    }\n",
       "\n",
       "    .dataframe thead th {\n",
       "        text-align: right;\n",
       "    }\n",
       "</style>\n",
       "<table border=\"1\" class=\"dataframe\">\n",
       "  <thead>\n",
       "    <tr style=\"text-align: right;\">\n",
       "      <th></th>\n",
       "      <th>Employee</th>\n",
       "      <th>hire_date</th>\n",
       "      <th>Manager</th>\n",
       "      <th>Total_sales</th>\n",
       "    </tr>\n",
       "  </thead>\n",
       "  <tbody>\n",
       "    <tr>\n",
       "      <th>0</th>\n",
       "      <td>Steve Johnson</td>\n",
       "      <td>2003-10-17</td>\n",
       "      <td>Nancy Edwards</td>\n",
       "      <td>720.16</td>\n",
       "    </tr>\n",
       "    <tr>\n",
       "      <th>1</th>\n",
       "      <td>Margaret Park</td>\n",
       "      <td>2003-05-03</td>\n",
       "      <td>Nancy Edwards</td>\n",
       "      <td>775.40</td>\n",
       "    </tr>\n",
       "    <tr>\n",
       "      <th>2</th>\n",
       "      <td>Jane Peacock</td>\n",
       "      <td>2002-04-01</td>\n",
       "      <td>Nancy Edwards</td>\n",
       "      <td>833.04</td>\n",
       "    </tr>\n",
       "  </tbody>\n",
       "</table>\n",
       "</div>"
      ],
      "text/plain": [
       "        Employee  hire_date        Manager Total_sales\n",
       "0  Steve Johnson 2003-10-17  Nancy Edwards      720.16\n",
       "1  Margaret Park 2003-05-03  Nancy Edwards      775.40\n",
       "2   Jane Peacock 2002-04-01  Nancy Edwards      833.04"
      ]
     },
     "execution_count": 449,
     "metadata": {},
     "output_type": "execute_result"
    }
   ],
   "source": [
    "q7"
   ]
  },
  {
   "cell_type": "code",
   "execution_count": 450,
   "metadata": {},
   "outputs": [
    {
     "data": {
      "image/png": "[encoded data removed]",
      "text/plain": [
       "<Figure size 1080x504 with 1 Axes>"
      ]
     },
     "metadata": {
      "needs_background": "light"
     },
     "output_type": "display_data"
    }
   ],
   "source": [
    "plt.figure(figsize= (15,7))\n",
    "sns.barplot(x = 'Employee',y = 'Total_sales', data = q7)\n",
    "plt.xticks(rotation = 90)\n",
    "plt.show()"
   ]
  },
  {
   "cell_type": "code",
   "execution_count": 456,
   "metadata": {},
   "outputs": [],
   "source": [
    "query8 = \"SELECT distinct(invoice_date) FROM invoice ORDER BY invoice_date\"\n",
    "ready.execute(query8)\n",
    "q8 = ready.fetchall()\n",
    "q8 = pd.DataFrame(q8)\n"
   ]
  },
  {
   "cell_type": "code",
   "execution_count": 457,
   "metadata": {},
   "outputs": [
    {
     "data": {
      "text/html": [
       "<div>\n",
       "<style scoped>\n",
       "    .dataframe tbody tr th:only-of-type {\n",
       "        vertical-align: middle;\n",
       "    }\n",
       "\n",
       "    .dataframe tbody tr th {\n",
       "        vertical-align: top;\n",
       "    }\n",
       "\n",
       "    .dataframe thead th {\n",
       "        text-align: right;\n",
       "    }\n",
       "</style>\n",
       "<table border=\"1\" class=\"dataframe\">\n",
       "  <thead>\n",
       "    <tr style=\"text-align: right;\">\n",
       "      <th></th>\n",
       "      <th>0</th>\n",
       "    </tr>\n",
       "  </thead>\n",
       "  <tbody>\n",
       "    <tr>\n",
       "      <th>0</th>\n",
       "      <td>2009-01-01</td>\n",
       "    </tr>\n",
       "    <tr>\n",
       "      <th>1</th>\n",
       "      <td>2009-01-02</td>\n",
       "    </tr>\n",
       "    <tr>\n",
       "      <th>2</th>\n",
       "      <td>2009-01-03</td>\n",
       "    </tr>\n",
       "    <tr>\n",
       "      <th>3</th>\n",
       "      <td>2009-01-06</td>\n",
       "    </tr>\n",
       "    <tr>\n",
       "      <th>4</th>\n",
       "      <td>2009-01-11</td>\n",
       "    </tr>\n",
       "    <tr>\n",
       "      <th>5</th>\n",
       "      <td>2009-01-19</td>\n",
       "    </tr>\n",
       "    <tr>\n",
       "      <th>6</th>\n",
       "      <td>2009-02-01</td>\n",
       "    </tr>\n",
       "    <tr>\n",
       "      <th>7</th>\n",
       "      <td>2009-02-02</td>\n",
       "    </tr>\n",
       "    <tr>\n",
       "      <th>8</th>\n",
       "      <td>2009-02-03</td>\n",
       "    </tr>\n",
       "    <tr>\n",
       "      <th>9</th>\n",
       "      <td>2009-02-06</td>\n",
       "    </tr>\n",
       "    <tr>\n",
       "      <th>10</th>\n",
       "      <td>2009-02-11</td>\n",
       "    </tr>\n",
       "    <tr>\n",
       "      <th>11</th>\n",
       "      <td>2009-02-19</td>\n",
       "    </tr>\n",
       "    <tr>\n",
       "      <th>12</th>\n",
       "      <td>2009-03-04</td>\n",
       "    </tr>\n",
       "    <tr>\n",
       "      <th>13</th>\n",
       "      <td>2009-03-05</td>\n",
       "    </tr>\n",
       "    <tr>\n",
       "      <th>14</th>\n",
       "      <td>2009-03-06</td>\n",
       "    </tr>\n",
       "    <tr>\n",
       "      <th>15</th>\n",
       "      <td>2009-03-09</td>\n",
       "    </tr>\n",
       "    <tr>\n",
       "      <th>16</th>\n",
       "      <td>2009-03-14</td>\n",
       "    </tr>\n",
       "    <tr>\n",
       "      <th>17</th>\n",
       "      <td>2009-03-22</td>\n",
       "    </tr>\n",
       "    <tr>\n",
       "      <th>18</th>\n",
       "      <td>2009-04-04</td>\n",
       "    </tr>\n",
       "    <tr>\n",
       "      <th>19</th>\n",
       "      <td>2009-04-05</td>\n",
       "    </tr>\n",
       "    <tr>\n",
       "      <th>20</th>\n",
       "      <td>2009-04-06</td>\n",
       "    </tr>\n",
       "    <tr>\n",
       "      <th>21</th>\n",
       "      <td>2009-04-09</td>\n",
       "    </tr>\n",
       "    <tr>\n",
       "      <th>22</th>\n",
       "      <td>2009-04-14</td>\n",
       "    </tr>\n",
       "    <tr>\n",
       "      <th>23</th>\n",
       "      <td>2009-04-22</td>\n",
       "    </tr>\n",
       "    <tr>\n",
       "      <th>24</th>\n",
       "      <td>2009-05-05</td>\n",
       "    </tr>\n",
       "    <tr>\n",
       "      <th>25</th>\n",
       "      <td>2009-05-06</td>\n",
       "    </tr>\n",
       "    <tr>\n",
       "      <th>26</th>\n",
       "      <td>2009-05-07</td>\n",
       "    </tr>\n",
       "    <tr>\n",
       "      <th>27</th>\n",
       "      <td>2009-05-10</td>\n",
       "    </tr>\n",
       "    <tr>\n",
       "      <th>28</th>\n",
       "      <td>2009-05-15</td>\n",
       "    </tr>\n",
       "    <tr>\n",
       "      <th>29</th>\n",
       "      <td>2009-05-23</td>\n",
       "    </tr>\n",
       "    <tr>\n",
       "      <th>...</th>\n",
       "      <td>...</td>\n",
       "    </tr>\n",
       "    <tr>\n",
       "      <th>324</th>\n",
       "      <td>2013-08-02</td>\n",
       "    </tr>\n",
       "    <tr>\n",
       "      <th>325</th>\n",
       "      <td>2013-08-03</td>\n",
       "    </tr>\n",
       "    <tr>\n",
       "      <th>326</th>\n",
       "      <td>2013-08-04</td>\n",
       "    </tr>\n",
       "    <tr>\n",
       "      <th>327</th>\n",
       "      <td>2013-08-07</td>\n",
       "    </tr>\n",
       "    <tr>\n",
       "      <th>328</th>\n",
       "      <td>2013-08-12</td>\n",
       "    </tr>\n",
       "    <tr>\n",
       "      <th>329</th>\n",
       "      <td>2013-08-20</td>\n",
       "    </tr>\n",
       "    <tr>\n",
       "      <th>330</th>\n",
       "      <td>2013-09-02</td>\n",
       "    </tr>\n",
       "    <tr>\n",
       "      <th>331</th>\n",
       "      <td>2013-09-03</td>\n",
       "    </tr>\n",
       "    <tr>\n",
       "      <th>332</th>\n",
       "      <td>2013-09-04</td>\n",
       "    </tr>\n",
       "    <tr>\n",
       "      <th>333</th>\n",
       "      <td>2013-09-07</td>\n",
       "    </tr>\n",
       "    <tr>\n",
       "      <th>334</th>\n",
       "      <td>2013-09-12</td>\n",
       "    </tr>\n",
       "    <tr>\n",
       "      <th>335</th>\n",
       "      <td>2013-09-20</td>\n",
       "    </tr>\n",
       "    <tr>\n",
       "      <th>336</th>\n",
       "      <td>2013-10-03</td>\n",
       "    </tr>\n",
       "    <tr>\n",
       "      <th>337</th>\n",
       "      <td>2013-10-04</td>\n",
       "    </tr>\n",
       "    <tr>\n",
       "      <th>338</th>\n",
       "      <td>2013-10-05</td>\n",
       "    </tr>\n",
       "    <tr>\n",
       "      <th>339</th>\n",
       "      <td>2013-10-08</td>\n",
       "    </tr>\n",
       "    <tr>\n",
       "      <th>340</th>\n",
       "      <td>2013-10-13</td>\n",
       "    </tr>\n",
       "    <tr>\n",
       "      <th>341</th>\n",
       "      <td>2013-10-21</td>\n",
       "    </tr>\n",
       "    <tr>\n",
       "      <th>342</th>\n",
       "      <td>2013-11-03</td>\n",
       "    </tr>\n",
       "    <tr>\n",
       "      <th>343</th>\n",
       "      <td>2013-11-04</td>\n",
       "    </tr>\n",
       "    <tr>\n",
       "      <th>344</th>\n",
       "      <td>2013-11-05</td>\n",
       "    </tr>\n",
       "    <tr>\n",
       "      <th>345</th>\n",
       "      <td>2013-11-08</td>\n",
       "    </tr>\n",
       "    <tr>\n",
       "      <th>346</th>\n",
       "      <td>2013-11-13</td>\n",
       "    </tr>\n",
       "    <tr>\n",
       "      <th>347</th>\n",
       "      <td>2013-11-21</td>\n",
       "    </tr>\n",
       "    <tr>\n",
       "      <th>348</th>\n",
       "      <td>2013-12-04</td>\n",
       "    </tr>\n",
       "    <tr>\n",
       "      <th>349</th>\n",
       "      <td>2013-12-05</td>\n",
       "    </tr>\n",
       "    <tr>\n",
       "      <th>350</th>\n",
       "      <td>2013-12-06</td>\n",
       "    </tr>\n",
       "    <tr>\n",
       "      <th>351</th>\n",
       "      <td>2013-12-09</td>\n",
       "    </tr>\n",
       "    <tr>\n",
       "      <th>352</th>\n",
       "      <td>2013-12-14</td>\n",
       "    </tr>\n",
       "    <tr>\n",
       "      <th>353</th>\n",
       "      <td>2013-12-22</td>\n",
       "    </tr>\n",
       "  </tbody>\n",
       "</table>\n",
       "<p>354 rows × 1 columns</p>\n",
       "</div>"
      ],
      "text/plain": [
       "             0\n",
       "0   2009-01-01\n",
       "1   2009-01-02\n",
       "2   2009-01-03\n",
       "3   2009-01-06\n",
       "4   2009-01-11\n",
       "5   2009-01-19\n",
       "6   2009-02-01\n",
       "7   2009-02-02\n",
       "8   2009-02-03\n",
       "9   2009-02-06\n",
       "10  2009-02-11\n",
       "11  2009-02-19\n",
       "12  2009-03-04\n",
       "13  2009-03-05\n",
       "14  2009-03-06\n",
       "15  2009-03-09\n",
       "16  2009-03-14\n",
       "17  2009-03-22\n",
       "18  2009-04-04\n",
       "19  2009-04-05\n",
       "20  2009-04-06\n",
       "21  2009-04-09\n",
       "22  2009-04-14\n",
       "23  2009-04-22\n",
       "24  2009-05-05\n",
       "25  2009-05-06\n",
       "26  2009-05-07\n",
       "27  2009-05-10\n",
       "28  2009-05-15\n",
       "29  2009-05-23\n",
       "..         ...\n",
       "324 2013-08-02\n",
       "325 2013-08-03\n",
       "326 2013-08-04\n",
       "327 2013-08-07\n",
       "328 2013-08-12\n",
       "329 2013-08-20\n",
       "330 2013-09-02\n",
       "331 2013-09-03\n",
       "332 2013-09-04\n",
       "333 2013-09-07\n",
       "334 2013-09-12\n",
       "335 2013-09-20\n",
       "336 2013-10-03\n",
       "337 2013-10-04\n",
       "338 2013-10-05\n",
       "339 2013-10-08\n",
       "340 2013-10-13\n",
       "341 2013-10-21\n",
       "342 2013-11-03\n",
       "343 2013-11-04\n",
       "344 2013-11-05\n",
       "345 2013-11-08\n",
       "346 2013-11-13\n",
       "347 2013-11-21\n",
       "348 2013-12-04\n",
       "349 2013-12-05\n",
       "350 2013-12-06\n",
       "351 2013-12-09\n",
       "352 2013-12-14\n",
       "353 2013-12-22\n",
       "\n",
       "[354 rows x 1 columns]"
      ]
     },
     "execution_count": 457,
     "metadata": {},
     "output_type": "execute_result"
    }
   ],
   "source": [
    "q8"
   ]
  },
  {
   "cell_type": "raw",
   "metadata": {},
   "source": [
    "This fictional dataset shows invoices dated from January 2009 to December 2013. Therefore, we will assume that \"today\" is December 2013 and use this to determine the length of tenure of the three sales agents."
   ]
  },
  {
   "cell_type": "code",
   "execution_count": 458,
   "metadata": {},
   "outputs": [
    {
     "data": {
      "text/html": [
       "<div>\n",
       "<style scoped>\n",
       "    .dataframe tbody tr th:only-of-type {\n",
       "        vertical-align: middle;\n",
       "    }\n",
       "\n",
       "    .dataframe tbody tr th {\n",
       "        vertical-align: top;\n",
       "    }\n",
       "\n",
       "    .dataframe thead th {\n",
       "        text-align: right;\n",
       "    }\n",
       "</style>\n",
       "<table border=\"1\" class=\"dataframe\">\n",
       "  <thead>\n",
       "    <tr style=\"text-align: right;\">\n",
       "      <th></th>\n",
       "      <th>Employee</th>\n",
       "      <th>hire_date</th>\n",
       "      <th>Manager</th>\n",
       "      <th>Total_sales</th>\n",
       "      <th>tenure</th>\n",
       "    </tr>\n",
       "  </thead>\n",
       "  <tbody>\n",
       "    <tr>\n",
       "      <th>0</th>\n",
       "      <td>Steve Johnson</td>\n",
       "      <td>2003-10-17</td>\n",
       "      <td>Nancy Edwards</td>\n",
       "      <td>720.16</td>\n",
       "      <td>122.220169</td>\n",
       "    </tr>\n",
       "    <tr>\n",
       "      <th>1</th>\n",
       "      <td>Margaret Park</td>\n",
       "      <td>2003-05-03</td>\n",
       "      <td>Nancy Edwards</td>\n",
       "      <td>775.40</td>\n",
       "      <td>127.706934</td>\n",
       "    </tr>\n",
       "    <tr>\n",
       "      <th>2</th>\n",
       "      <td>Jane Peacock</td>\n",
       "      <td>2002-04-01</td>\n",
       "      <td>Nancy Edwards</td>\n",
       "      <td>833.04</td>\n",
       "      <td>140.750323</td>\n",
       "    </tr>\n",
       "  </tbody>\n",
       "</table>\n",
       "</div>"
      ],
      "text/plain": [
       "        Employee  hire_date        Manager Total_sales      tenure\n",
       "0  Steve Johnson 2003-10-17  Nancy Edwards      720.16  122.220169\n",
       "1  Margaret Park 2003-05-03  Nancy Edwards      775.40  127.706934\n",
       "2   Jane Peacock 2002-04-01  Nancy Edwards      833.04  140.750323"
      ]
     },
     "execution_count": 458,
     "metadata": {},
     "output_type": "execute_result"
    }
   ],
   "source": [
    "import datetime\n",
    "import numpy as np\n",
    "# Convert to datetime type\n",
    "q7['hire_date'] = pd.to_datetime(q7['hire_date'])\n",
    "# Create datetime object for \"today\"\n",
    "today = datetime.datetime(year=2013, month=12, day=23)\n",
    "# Calculate the length of tenure in months\n",
    "q7['tenure'] = (today - q7['hire_date']) / np.timedelta64(1, 'M')\n",
    "q7"
   ]
  },
  {
   "cell_type": "code",
   "execution_count": 461,
   "metadata": {},
   "outputs": [
    {
     "data": {
      "image/png": "[encoded data removed]",
      "text/plain": [
       "<Figure size 936x504 with 1 Axes>"
      ]
     },
     "metadata": {
      "needs_background": "light"
     },
     "output_type": "display_data"
    }
   ],
   "source": [
    "plt.figure(figsize = (13,7))\n",
    "sns.barplot(x = 'Employee',y = 'tenure',data = q7)\n",
    "plt.show()"
   ]
  },
  {
   "cell_type": "code",
   "execution_count": 455,
   "metadata": {},
   "outputs": [],
   "source": [
    "### abhi k lie bs itna h experiment kafi hai."
   ]
  },
  {
   "cell_type": "code",
   "execution_count": null,
   "metadata": {},
   "outputs": [],
   "source": []
  }
 ],
 "metadata": {
  "kernelspec": {
   "display_name": "Python 3",
   "language": "python",
   "name": "python3"
  },
  "language_info": {
   "codemirror_mode": {
    "name": "ipython",
    "version": 3
   },
   "file_extension": ".py",
   "mimetype": "text/x-python",
   "name": "python",
   "nbconvert_exporter": "python",
   "pygments_lexer": "ipython3",
   "version": "3.6.5"
  }
 },
 "nbformat": 4,
 "nbformat_minor": 2
}
